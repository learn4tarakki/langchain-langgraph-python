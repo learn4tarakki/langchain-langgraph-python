{
  "cells": [
    {
      "cell_type": "code",
      "execution_count": 1,
      "metadata": {},
      "outputs": [
        {
          "name": "stdout",
          "output_type": "stream",
          "text": [
            "\u001b[2mUsing Python 3.11.10 environment at: /home/ubu/Documents/work/l4t/langchain-langgraph-python/.venv\u001b[0m\n",
            "\u001b[2mAudited \u001b[1m1 package\u001b[0m \u001b[2min 5ms\u001b[0m\u001b[0m\n"
          ]
        }
      ],
      "source": [
        "!uv pip install langgraph"
      ]
    },
    {
      "cell_type": "code",
      "execution_count": 2,
      "metadata": {
        "id": "iwodMaHb6dcq"
      },
      "outputs": [],
      "source": [
        "from langgraph.graph import StateGraph, START, END\n",
        "from typing_extensions import TypedDict, Annotated\n",
        "from IPython.display import Image, display"
      ]
    },
    {
      "cell_type": "code",
      "execution_count": 3,
      "metadata": {
        "id": "7lTRdJwJ6vY8"
      },
      "outputs": [
        {
          "name": "stdout",
          "output_type": "stream",
          "text": [
            "Reversed text is .gnirts lanigiro ma I !yeH\n"
          ]
        },
        {
          "data": {
            "text/plain": [
              "{'input': 'Hey! I am original string.', 'output': '.gnirts lanigiro ma I !yeH'}"
            ]
          },
          "execution_count": 3,
          "metadata": {},
          "output_type": "execute_result"
        }
      ],
      "source": [
        "class State(TypedDict):\n",
        "    input: str\n",
        "    output: str\n",
        "\n",
        "graph = StateGraph(State)\n",
        "\n",
        "def reversal_node(state: State) -> State:\n",
        "    result = state[\"input\"][::-1]\n",
        "    return {\"output\": result}\n",
        "\n",
        "def display_node(state: State) -> None:\n",
        "    print(f\"Reversed text is {state['output']}\")\n",
        "\n",
        "\n",
        "graph.add_node(\"reversal_node\", reversal_node)\n",
        "graph.add_node(\"display_node\", display_node)\n",
        "\n",
        "graph.add_edge(START, \"reversal_node\")\n",
        "graph.add_edge(\"reversal_node\", \"display_node\")\n",
        "graph.add_edge(\"display_node\", END)\n",
        "\n",
        "compiled_graph = graph.compile()\n",
        "\n",
        "compiled_graph.invoke({\"input\": \"Hey! I am original string.\"})"
      ]
    },
    {
      "cell_type": "code",
      "execution_count": 4,
      "metadata": {
        "colab": {
          "base_uri": "https://localhost:8080/",
          "height": 350
        },
        "id": "fqMbK8i_60NQ",
        "outputId": "35edd866-ac79-4158-a362-960e0a04b802"
      },
      "outputs": [
        {
          "data": {
            "image/png": "[encoded data removed]",
            "text/plain": [
              "<IPython.core.display.Image object>"
            ]
          },
          "metadata": {},
          "output_type": "display_data"
        }
      ],
      "source": [
        "\n",
        "try:\n",
        "    display(Image(compiled_graph.get_graph().draw_mermaid_png()))\n",
        "except Exception:\n",
        "    # This requires some extra dependencies and is optional\n",
        "    pass"
      ]
    }
  ],
  "metadata": {
    "colab": {
      "authorship_tag": "ABX9TyNLosjMuY6+AA7NYM5JYQ/q",
      "include_colab_link": true,
      "provenance": []
    },
    "kernelspec": {
      "display_name": ".venv",
      "language": "python",
      "name": "python3"
    },
    "language_info": {
      "codemirror_mode": {
        "name": "ipython",
        "version": 3
      },
      "file_extension": ".py",
      "mimetype": "text/x-python",
      "name": "python",
      "nbconvert_exporter": "python",
      "pygments_lexer": "ipython3",
      "version": "3.11.10"
    }
  },
  "nbformat": 4,
  "nbformat_minor": 0
}
