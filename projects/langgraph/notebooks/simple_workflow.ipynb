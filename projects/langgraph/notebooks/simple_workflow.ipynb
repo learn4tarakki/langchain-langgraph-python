{
  "cells": [
    {
      "cell_type": "code",
      "execution_count": 1,
      "metadata": {},
      "outputs": [
        {
          "name": "stdout",
          "output_type": "stream",
          "text": [
            "\u001b[2mUsing Python 3.11.10 environment at: /home/ubu/Documents/work/l4t/langchain-langgraph-python/.venv\u001b[0m\n",
            "\u001b[2mAudited \u001b[1m1 package\u001b[0m \u001b[2min 1ms\u001b[0m\u001b[0m\n"
          ]
        }
      ],
      "source": [
        "!uv pip install langgraph"
      ]
    },
    {
      "cell_type": "code",
      "execution_count": 2,
      "metadata": {
        "id": "iwodMaHb6dcq"
      },
      "outputs": [],
      "source": [
        "from typing_extensions import TypedDict\n",
        "from langgraph.graph import StateGraph, START, END\n",
        "from IPython.display import Image, display\n",
        "from typing import Literal"
      ]
    },
    {
      "cell_type": "code",
      "execution_count": 3,
      "metadata": {
        "id": "7lTRdJwJ6vY8"
      },
      "outputs": [
        {
          "name": "stdout",
          "output_type": "stream",
          "text": [
            "Reversed input string is .gnirts lanigiro ma I !yeH\n"
          ]
        },
        {
          "data": {
            "text/plain": [
              "{'input': 'Hey! I am original string.',\n",
              " 'output': '.gnirts lanigiro ma I !yeH',\n",
              " 'isInputValid': True}"
            ]
          },
          "execution_count": 3,
          "metadata": {},
          "output_type": "execute_result"
        }
      ],
      "source": [
        "class State(TypedDict):\n",
        "    input: str\n",
        "    output: str\n",
        "    isInputValid: bool\n",
        "\n",
        "graph = StateGraph(State)\n",
        "\n",
        "def analyse_string(state: State) -> State:\n",
        "    input_str = state[\"input\"]\n",
        "    result = any(char.isdigit() for char in input_str)\n",
        "    if result: \n",
        "        return {\"isInputValid\": False} \n",
        "    return {\"isInputValid\": True} \n",
        "\n",
        "def conditional_router(state: State) -> Literal[\"reverse_string\", \"display_failure\"]:\n",
        "    isValid = state[\"isInputValid\"]\n",
        "    if isValid:\n",
        "        return \"reverse_string\"\n",
        "    return \"display_failure\"\n",
        "\n",
        "def reverse_string(state: State) -> State:\n",
        "    result = state[\"input\"][::-1]\n",
        "    return {\"output\": result}\n",
        "\n",
        "def display_output(state: State) -> None:\n",
        "    print(f\"Reversed input string is {state['output']}\")\n",
        "\n",
        "def display_failure(state: State) -> None:\n",
        "    print(f\"Input is invalid.\")\n",
        "\n",
        "# add nodes \n",
        "graph.add_node(\"analyse_string\", analyse_string)\n",
        "graph.add_node(\"reverse_string\", reverse_string)\n",
        "graph.add_node(\"display_output\", display_output)\n",
        "graph.add_node(\"display_failure\", display_failure)\n",
        "\n",
        "# add edges \n",
        "graph.add_edge(START, \"analyse_string\")\n",
        "graph.add_conditional_edges(\"analyse_string\", conditional_router)\n",
        "graph.add_edge(\"reverse_string\", \"display_output\")\n",
        "graph.add_edge(\"display_output\", END)\n",
        "graph.add_edge(\"display_failure\", END)\n",
        "\n",
        "compiled_graph = graph.compile()\n",
        "\n",
        "compiled_graph.invoke({\"input\": \"Hey! I am original string.\"})"
      ]
    },
    {
      "cell_type": "code",
      "execution_count": 4,
      "metadata": {
        "colab": {
          "base_uri": "https://localhost:8080/",
          "height": 350
        },
        "id": "fqMbK8i_60NQ",
        "outputId": "35edd866-ac79-4158-a362-960e0a04b802"
      },
      "outputs": [
        {
          "data": {
            "image/png": "[encoded data removed]",
            "text/plain": [
              "<IPython.core.display.Image object>"
            ]
          },
          "metadata": {},
          "output_type": "display_data"
        }
      ],
      "source": [
        "\n",
        "try:\n",
        "    display(Image(compiled_graph.get_graph().draw_mermaid_png()))\n",
        "except Exception:\n",
        "    # This requires some extra dependencies and is optional\n",
        "    pass"
      ]
    }
  ],
  "metadata": {
    "colab": {
      "authorship_tag": "ABX9TyNLosjMuY6+AA7NYM5JYQ/q",
      "include_colab_link": true,
      "provenance": []
    },
    "kernelspec": {
      "display_name": ".venv",
      "language": "python",
      "name": "python3"
    },
    "language_info": {
      "codemirror_mode": {
        "name": "ipython",
        "version": 3
      },
      "file_extension": ".py",
      "mimetype": "text/x-python",
      "name": "python",
      "nbconvert_exporter": "python",
      "pygments_lexer": "ipython3",
      "version": "3.11.10"
    }
  },
  "nbformat": 4,
  "nbformat_minor": 0
}
