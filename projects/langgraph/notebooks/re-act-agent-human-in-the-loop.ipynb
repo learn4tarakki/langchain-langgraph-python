{
  "cells": [
    {
      "cell_type": "code",
      "execution_count": 1,
      "metadata": {},
      "outputs": [
        {
          "name": "stdout",
          "output_type": "stream",
          "text": [
            "\u001b[2mUsing Python 3.11.10 environment at: /home/ubu/Documents/work/l4t/ai-python-series/langchain-langgraph-python/.venv\u001b[0m\n",
            "\u001b[2mAudited \u001b[1m1 package\u001b[0m \u001b[2min 12ms\u001b[0m\u001b[0m\n"
          ]
        }
      ],
      "source": [
        "!uv pip install langgraph"
      ]
    },
    {
      "cell_type": "code",
      "execution_count": 2,
      "metadata": {
        "id": "iwodMaHb6dcq"
      },
      "outputs": [],
      "source": [
        "from langchain_openai import ChatOpenAI\n",
        "from langchain_core.tools import tool\n",
        "from langgraph.prebuilt import create_react_agent\n",
        "from langgraph.checkpoint.memory import MemorySaver\n",
        "from IPython.display import Image, display\n",
        "from dotenv import load_dotenv\n",
        "import os"
      ]
    },
    {
      "cell_type": "code",
      "execution_count": 3,
      "metadata": {
        "id": "7lTRdJwJ6vY8"
      },
      "outputs": [],
      "source": [
        "load_dotenv()\n",
        "\n",
        "model = ChatOpenAI(model=\"gpt-4o\", api_key=os.getenv(\"OPENAI_API_KEY\"))\n",
        "\n",
        "@tool\n",
        "def get_weather(location: str):\n",
        "    \"\"\"Use this to get weather information from a given location.\"\"\"\n",
        "    if location.lower() in [\"nyc\", \"new york\"]:\n",
        "        return \"It might be cloudy in nyc\"\n",
        "    elif location.lower() in [\"sf\", \"san francisco\"]:\n",
        "        return \"It's always sunny in sf\"\n",
        "    else:\n",
        "        raise AssertionError(\"Unknown Location\")\n",
        "\n",
        "tools = [get_weather]\n",
        "\n",
        "memory = MemorySaver()\n",
        "\n",
        "graph = create_react_agent(model, tools=tools, interrupt_before=[\"tools\"], checkpointer=memory)\n"
      ]
    },
    {
      "cell_type": "code",
      "execution_count": 4,
      "metadata": {
        "colab": {
          "base_uri": "https://localhost:8080/",
          "height": 350
        },
        "id": "fqMbK8i_60NQ",
        "outputId": "35edd866-ac79-4158-a362-960e0a04b802"
      },
      "outputs": [
        {
          "data": {
            "image/png": "[encoded data removed]",
            "text/plain": [
              "<IPython.core.display.Image object>"
            ]
          },
          "metadata": {},
          "output_type": "display_data"
        }
      ],
      "source": [
        "\n",
        "try:\n",
        "    display(Image(graph.get_graph().draw_mermaid_png()))\n",
        "except Exception:\n",
        "    # This requires some extra dependencies and is optional\n",
        "    pass"
      ]
    },
    {
      "cell_type": "code",
      "execution_count": 5,
      "metadata": {},
      "outputs": [
        {
          "name": "stdout",
          "output_type": "stream",
          "text": [
            "================================\u001b[1m Human Message \u001b[0m=================================\n",
            "\n",
            "what is the weather in SF, CA\n",
            "==================================\u001b[1m Ai Message \u001b[0m==================================\n",
            "Tool Calls:\n",
            "  get_weather (call_O5IjMg2sZFz0uTYyztT7ZOcj)\n",
            " Call ID: call_O5IjMg2sZFz0uTYyztT7ZOcj\n",
            "  Args:\n",
            "    location: SF, CA\n",
            "Next step:  ('tools',)\n",
            "\n",
            "\n",
            "==================================\u001b[1m Ai Message \u001b[0m==================================\n",
            "Tool Calls:\n",
            "  get_weather (call_O5IjMg2sZFz0uTYyztT7ZOcj)\n",
            " Call ID: call_O5IjMg2sZFz0uTYyztT7ZOcj\n",
            "  Args:\n",
            "    location: SF, CA\n",
            "=================================\u001b[1m Tool Message \u001b[0m=================================\n",
            "Name: get_weather\n",
            "\n",
            "Error: AssertionError('Unknown Location')\n",
            " Please fix your mistakes.\n",
            "==================================\u001b[1m Ai Message \u001b[0m==================================\n",
            "Tool Calls:\n",
            "  get_weather (call_VuDCIHymZ71vt3tqBZoEOTst)\n",
            " Call ID: call_VuDCIHymZ71vt3tqBZoEOTst\n",
            "  Args:\n",
            "    location: San Francisco, CA\n"
          ]
        }
      ],
      "source": [
        "config = {\"configurable\": {\"thread_id\": \"1\"}}\n",
        "\n",
        "inputs = {\"messages\": [(\"user\", \"what is the weather in SF, CA\")]}\n",
        "\n",
        "def print_stream(stream):\n",
        "    for s in stream:\n",
        "        message = s[\"messages\"][-1]\n",
        "        if isinstance(message, tuple):\n",
        "            print(message)\n",
        "        else:\n",
        "            message.pretty_print()\n",
        "\n",
        "print_stream(graph.stream(inputs, config=config, stream_mode=\"values\"))\n",
        "\n",
        "# to check the next state, where it halts \n",
        "snapshot = graph.get_state(config)\n",
        "print(\"Next step: \", snapshot.next)\n",
        "\n",
        "print(\"\\n\")\n",
        "\n",
        "# to continue with affirmation \n",
        "print_stream(graph.stream(None, config, stream_mode=\"values\"))"
      ]
    },
    {
      "cell_type": "code",
      "execution_count": 6,
      "metadata": {},
      "outputs": [
        {
          "name": "stdout",
          "output_type": "stream",
          "text": [
            "================================\u001b[1m Human Message \u001b[0m=================================\n",
            "\n",
            "what is the weather in SF, CA\n",
            "==================================\u001b[1m Ai Message \u001b[0m==================================\n",
            "Tool Calls:\n",
            "  get_weather (call_8swYJmUWDBS87bQP74xDaXn8)\n",
            " Call ID: call_8swYJmUWDBS87bQP74xDaXn8\n",
            "  Args:\n",
            "    location: SF, CA\n",
            "Next step:  ('tools',)\n",
            "\n",
            "\n",
            "==================================\u001b[1m Ai Message \u001b[0m==================================\n",
            "Tool Calls:\n",
            "  get_weather (call_8swYJmUWDBS87bQP74xDaXn8)\n",
            " Call ID: call_8swYJmUWDBS87bQP74xDaXn8\n",
            "  Args:\n",
            "    location: San Francisco\n",
            "=================================\u001b[1m Tool Message \u001b[0m=================================\n",
            "Name: get_weather\n",
            "\n",
            "It's always sunny in sf\n",
            "==================================\u001b[1m Ai Message \u001b[0m==================================\n",
            "\n",
            "The weather in San Francisco is always sunny.\n"
          ]
        }
      ],
      "source": [
        "config = {\"configurable\": {\"thread_id\": \"2\"}}\n",
        "\n",
        "inputs = {\"messages\": [(\"user\", \"what is the weather in SF, CA\")]}\n",
        "\n",
        "def print_stream(stream):\n",
        "    for s in stream:\n",
        "        message = s[\"messages\"][-1]\n",
        "        if isinstance(message, tuple):\n",
        "            print(message)\n",
        "        else:\n",
        "            message.pretty_print()\n",
        "\n",
        "print_stream(graph.stream(inputs, config=config, stream_mode=\"values\"))\n",
        "\n",
        "# to check the next state, where it halts \n",
        "snapshot = graph.get_state(config)\n",
        "print(\"Next step: \", snapshot.next)\n",
        "\n",
        "print(\"\\n\")\n",
        "\n",
        "# to adjust state as per human input and then continue\n",
        "state = graph.get_state(config)\n",
        "\n",
        "last_message = state.values[\"messages\"][-1]\n",
        "last_message.tool_calls[0][\"args\"] = {\"location\": \"San Francisco\"} # instead of directly manipulating, we can use input() to aks input from user \n",
        "\n",
        "graph.update_state(config, {\"messages\": [last_message]})\n",
        "print_stream(graph.stream(None, config, stream_mode=\"values\"))"
      ]
    }
  ],
  "metadata": {
    "colab": {
      "authorship_tag": "ABX9TyNLosjMuY6+AA7NYM5JYQ/q",
      "include_colab_link": true,
      "provenance": []
    },
    "kernelspec": {
      "display_name": ".venv",
      "language": "python",
      "name": "python3"
    },
    "language_info": {
      "codemirror_mode": {
        "name": "ipython",
        "version": 3
      },
      "file_extension": ".py",
      "mimetype": "text/x-python",
      "name": "python",
      "nbconvert_exporter": "python",
      "pygments_lexer": "ipython3",
      "version": "3.11.10"
    }
  },
  "nbformat": 4,
  "nbformat_minor": 0
}
