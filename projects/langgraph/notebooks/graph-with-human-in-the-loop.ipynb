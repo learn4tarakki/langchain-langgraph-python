{
  "cells": [
    {
      "cell_type": "code",
      "execution_count": 3,
      "metadata": {},
      "outputs": [
        {
          "name": "stdout",
          "output_type": "stream",
          "text": [
            "\u001b[2mUsing Python 3.11.10 environment at: /home/ubu/Documents/work/l4t/ai-python-series/langchain-langgraph-python/.venv\u001b[0m\n",
            "\u001b[2mAudited \u001b[1m1 package\u001b[0m \u001b[2min 2ms\u001b[0m\u001b[0m\n"
          ]
        }
      ],
      "source": [
        "!uv pip install langgraph"
      ]
    },
    {
      "cell_type": "code",
      "execution_count": 4,
      "metadata": {
        "id": "iwodMaHb6dcq"
      },
      "outputs": [],
      "source": [
        "from typing_extensions import TypedDict, Literal\n",
        "from langgraph.graph import StateGraph, START, END, MessagesState\n",
        "from langgraph.checkpoint.memory import MemorySaver\n",
        "from langgraph.types import Command, interrupt\n",
        "from langchain_openai import ChatOpenAI\n",
        "from langchain_core.tools import tool\n",
        "from langchain_core.messages import AIMessage\n",
        "from dotenv import load_dotenv\n",
        "from IPython.display import Image, display\n",
        "import os"
      ]
    },
    {
      "cell_type": "code",
      "execution_count": 5,
      "metadata": {
        "id": "7lTRdJwJ6vY8"
      },
      "outputs": [],
      "source": [
        "@tool\n",
        "def weather_search(city: str):\n",
        "    \"\"\"Search for the weather\"\"\"\n",
        "    print(\"----\")\n",
        "    print(f\"Searching for: {city}\")\n",
        "    print(\"----\")\n",
        "    return \"Sunny!\"\n",
        "\n",
        "\n",
        "model = ChatOpenAI(model=\"gpt-4o\", api_key=os.getenv(\"OPENAI_API_KEY\")).bind_tools([weather_search])\n",
        "\n",
        "class State(MessagesState):\n",
        "    \"\"\"Simple state.\"\"\"\n",
        "\n",
        "\n",
        "def agent_node(state):\n",
        "    return {\"messages\": [model.invoke(state[\"messages\"])]}\n",
        "\n",
        "\n",
        "def human_review_node(state) -> Command[Literal[\"agent_node\", \"tool_node\"]]:\n",
        "    last_message = state[\"messages\"][-1]\n",
        "    tool_call = last_message.tool_calls[-1]\n",
        "\n",
        "    # this is the value we'll be providing via Command(resume=<human_review>)\n",
        "    human_review = interrupt(\n",
        "        {\n",
        "            \"question\": \"Is this correct?\",\n",
        "            \"tool_call\": tool_call,\n",
        "        }\n",
        "    )\n",
        "\n",
        "    review_action = human_review[\"action\"]\n",
        "    review_data = human_review.get(\"data\")\n",
        "\n",
        "    # if approved, call the tool\n",
        "    if review_action == \"continue\":\n",
        "        return Command(goto=\"tool_node\")\n",
        "\n",
        "    # update the AI message AND call tools\n",
        "    elif review_action == \"update\":\n",
        "        updated_message = {\n",
        "            \"role\": \"ai\",\n",
        "            \"content\": last_message.content,\n",
        "            \"tool_calls\": [\n",
        "                {\n",
        "                    \"id\": tool_call[\"id\"],\n",
        "                    \"name\": tool_call[\"name\"],\n",
        "                    # This the update provided by the human\n",
        "                    \"args\": review_data,\n",
        "                }\n",
        "            ],\n",
        "            # This is important - this needs to be the same as the message you replacing!\n",
        "            # Otherwise, it will show up as a separate message\n",
        "            \"id\": last_message.id,\n",
        "        }\n",
        "        return Command(goto=\"tool_node\", update={\"messages\": [updated_message]})\n",
        "\n",
        "    # provide feedback to LLM\n",
        "    elif review_action == \"feedback\":\n",
        "        # NOTE: we're adding feedback message as a ToolMessage\n",
        "        # to preserve the correct order in the message history\n",
        "        # (AI messages with tool calls need to be followed by tool call messages)\n",
        "        tool_message = {\n",
        "            \"role\": \"tool\",\n",
        "            # This is our natural language feedback\n",
        "            \"content\": review_data,\n",
        "            \"name\": tool_call[\"name\"],\n",
        "            \"tool_call_id\": tool_call[\"id\"],\n",
        "        }\n",
        "        return Command(goto=\"agent_node\", update={\"messages\": [tool_message]})\n",
        "\n",
        "\n",
        "def tool_node(state):\n",
        "    new_messages = []\n",
        "    tools = {\"weather_search\": weather_search}\n",
        "    tool_calls = state[\"messages\"][-1].tool_calls\n",
        "    for tool_call in tool_calls:\n",
        "        tool = tools[tool_call[\"name\"]]\n",
        "        result = tool.invoke(tool_call[\"args\"])\n",
        "        new_messages.append(\n",
        "            {\n",
        "                \"role\": \"tool\",\n",
        "                \"name\": tool_call[\"name\"],\n",
        "                \"content\": result,\n",
        "                \"tool_call_id\": tool_call[\"id\"],\n",
        "            }\n",
        "        )\n",
        "    return {\"messages\": new_messages}\n",
        "\n",
        "\n",
        "def route_after_agent_node(state) -> Literal[END, \"human_review_node\"]:\n",
        "    if len(state[\"messages\"][-1].tool_calls) == 0:\n",
        "        return END\n",
        "    else:\n",
        "        return \"human_review_node\"\n",
        "\n",
        "\n",
        "builder = StateGraph(State)\n",
        "builder.add_node(agent_node)\n",
        "builder.add_node(tool_node)\n",
        "builder.add_node(human_review_node)\n",
        "builder.add_edge(START, \"agent_node\")\n",
        "builder.add_conditional_edges(\"agent_node\", route_after_agent_node)\n",
        "builder.add_edge(\"tool_node\", \"agent_node\")\n",
        "\n",
        "memory = MemorySaver()\n",
        "\n",
        "graph = builder.compile(checkpointer=memory)\n"
      ]
    },
    {
      "cell_type": "code",
      "execution_count": 6,
      "metadata": {
        "colab": {
          "base_uri": "https://localhost:8080/",
          "height": 350
        },
        "id": "fqMbK8i_60NQ",
        "outputId": "35edd866-ac79-4158-a362-960e0a04b802"
      },
      "outputs": [
        {
          "data": {
            "image/png": "[encoded data removed]",
            "text/plain": [
              "<IPython.core.display.Image object>"
            ]
          },
          "metadata": {},
          "output_type": "display_data"
        }
      ],
      "source": [
        "\n",
        "try:\n",
        "    display(Image(graph.get_graph().draw_mermaid_png()))\n",
        "except Exception:\n",
        "    # This requires some extra dependencies and is optional\n",
        "    pass"
      ]
    },
    {
      "cell_type": "code",
      "execution_count": 9,
      "metadata": {},
      "outputs": [
        {
          "name": "stdout",
          "output_type": "stream",
          "text": [
            "{'agent_node': {'messages': [AIMessage(content='', additional_kwargs={'tool_calls': [{'id': 'call_PT4ThNxaRz4QRyu4jVpYezng', 'function': {'arguments': '{\"city\":\"San Francisco\"}', 'name': 'weather_search'}, 'type': 'function'}], 'refusal': None}, response_metadata={'token_usage': {'completion_tokens': 16, 'prompt_tokens': 97, 'total_tokens': 113, 'completion_tokens_details': {'accepted_prediction_tokens': 0, 'audio_tokens': 0, 'reasoning_tokens': 0, 'rejected_prediction_tokens': 0}, 'prompt_tokens_details': {'audio_tokens': 0, 'cached_tokens': 0}}, 'model_name': 'gpt-4o-2024-08-06', 'system_fingerprint': 'fp_90122d973c', 'finish_reason': 'tool_calls', 'logprobs': None}, id='run-690c1719-03d2-4ad4-9010-cbc7c040641f-0', tool_calls=[{'name': 'weather_search', 'args': {'city': 'San Francisco'}, 'id': 'call_PT4ThNxaRz4QRyu4jVpYezng', 'type': 'tool_call'}], usage_metadata={'input_tokens': 97, 'output_tokens': 16, 'total_tokens': 113, 'input_token_details': {'audio': 0, 'cache_read': 0}, 'output_token_details': {'audio': 0, 'reasoning': 0}})]}}\n",
            "\n",
            "\n",
            "{'__interrupt__': (Interrupt(value={'question': 'Is this correct?', 'tool_call': {'name': 'weather_search', 'args': {'city': 'San Francisco'}, 'id': 'call_PT4ThNxaRz4QRyu4jVpYezng', 'type': 'tool_call'}}, resumable=True, ns=['human_review_node:91c0013e-db9b-87ea-e227-6cd40eeffb07'], when='during'),)}\n",
            "\n",
            "\n",
            "Pending Executions!\n",
            "('human_review_node',)\n"
          ]
        }
      ],
      "source": [
        "thread = {\"configurable\": {\"thread_id\": \"1\"}}\n",
        "\n",
        "initial_input = {\"messages\": [{\"role\": \"user\", \"content\": \"what's the weather in sf?\"}]}\n",
        "\n",
        "# Run the graph until the first interruption\n",
        "for event in graph.stream(initial_input, thread, stream_mode=\"updates\"):\n",
        "    print(event)\n",
        "    print(\"\\n\")\n",
        "\n",
        "print(\"Pending Executions!\")\n",
        "print(graph.get_state(thread).next)    "
      ]
    },
    {
      "cell_type": "code",
      "execution_count": 8,
      "metadata": {},
      "outputs": [
        {
          "name": "stdout",
          "output_type": "stream",
          "text": [
            "{'human_review_node': None}\n",
            "----\n",
            "Searching for: San Francisco\n",
            "----\n",
            "{'tool_node': {'messages': [{'role': 'tool', 'name': 'weather_search', 'content': 'Sunny!', 'tool_call_id': 'call_5E9HGe0ysHYSx2ZemMMKXtkV'}]}}\n",
            "{'agent_node': {'messages': [AIMessage(content='The weather in San Francisco is sunny!', additional_kwargs={'refusal': None}, response_metadata={'token_usage': {'completion_tokens': 10, 'prompt_tokens': 74, 'total_tokens': 84, 'completion_tokens_details': {'accepted_prediction_tokens': 0, 'audio_tokens': 0, 'reasoning_tokens': 0, 'rejected_prediction_tokens': 0}, 'prompt_tokens_details': {'audio_tokens': 0, 'cached_tokens': 0}}, 'model_name': 'gpt-4o-2024-08-06', 'system_fingerprint': 'fp_90122d973c', 'finish_reason': 'stop', 'logprobs': None}, id='run-6d51ef42-580e-4616-837d-b95e7c67c83d-0', usage_metadata={'input_tokens': 74, 'output_tokens': 10, 'total_tokens': 84, 'input_token_details': {'audio': 0, 'cache_read': 0}, 'output_token_details': {'audio': 0, 'reasoning': 0}})]}}\n"
          ]
        }
      ],
      "source": [
        "# RESUME ONLY\n",
        "user_input = \"continue\"\n",
        "for event in graph.stream(Command(resume={\"action\": user_input}),thread,stream_mode=\"updates\"):\n",
        "    print(event)"
      ]
    },
    {
      "cell_type": "code",
      "execution_count": 10,
      "metadata": {},
      "outputs": [
        {
          "name": "stdout",
          "output_type": "stream",
          "text": [
            "{'human_review_node': {'messages': [{'role': 'ai', 'content': '', 'tool_calls': [{'id': 'call_PT4ThNxaRz4QRyu4jVpYezng', 'name': 'weather_search', 'args': {'city': 'San Francisco, USA'}}], 'id': 'run-690c1719-03d2-4ad4-9010-cbc7c040641f-0'}]}}\n",
            "----\n",
            "Searching for: San Francisco, USA\n",
            "----\n",
            "{'tool_node': {'messages': [{'role': 'tool', 'name': 'weather_search', 'content': 'Sunny!', 'tool_call_id': 'call_PT4ThNxaRz4QRyu4jVpYezng'}]}}\n",
            "{'agent_node': {'messages': [AIMessage(content='The weather in San Francisco is sunny!', additional_kwargs={'refusal': None}, response_metadata={'token_usage': {'completion_tokens': 10, 'prompt_tokens': 124, 'total_tokens': 134, 'completion_tokens_details': {'accepted_prediction_tokens': 0, 'audio_tokens': 0, 'reasoning_tokens': 0, 'rejected_prediction_tokens': 0}, 'prompt_tokens_details': {'audio_tokens': 0, 'cached_tokens': 0}}, 'model_name': 'gpt-4o-2024-08-06', 'system_fingerprint': 'fp_90122d973c', 'finish_reason': 'stop', 'logprobs': None}, id='run-b87cb845-64b0-4ca3-9417-8170026bc0ea-0', usage_metadata={'input_tokens': 124, 'output_tokens': 10, 'total_tokens': 134, 'input_token_details': {'audio': 0, 'cache_read': 0}, 'output_token_details': {'audio': 0, 'reasoning': 0}})]}}\n"
          ]
        }
      ],
      "source": [
        "# UPDATE STATE & RESUME \n",
        "custom_tool_arg = \"San Francisco, USA\"\n",
        "for event in graph.stream(Command(resume={\"action\": \"update\", \"data\": {\"city\": custom_tool_arg }}),thread,stream_mode=\"updates\"):\n",
        "    print(event)  "
      ]
    }
  ],
  "metadata": {
    "colab": {
      "authorship_tag": "ABX9TyNLosjMuY6+AA7NYM5JYQ/q",
      "include_colab_link": true,
      "provenance": []
    },
    "kernelspec": {
      "display_name": ".venv",
      "language": "python",
      "name": "python3"
    },
    "language_info": {
      "codemirror_mode": {
        "name": "ipython",
        "version": 3
      },
      "file_extension": ".py",
      "mimetype": "text/x-python",
      "name": "python",
      "nbconvert_exporter": "python",
      "pygments_lexer": "ipython3",
      "version": "3.11.10"
    }
  },
  "nbformat": 4,
  "nbformat_minor": 0
}
