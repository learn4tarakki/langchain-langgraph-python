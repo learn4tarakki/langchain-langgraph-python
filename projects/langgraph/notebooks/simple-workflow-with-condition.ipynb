{
  "cells": [
    {
      "cell_type": "code",
      "execution_count": 1,
      "metadata": {},
      "outputs": [
        {
          "name": "stdout",
          "output_type": "stream",
          "text": [
            "\u001b[2mUsing Python 3.11.10 environment at: /home/ubu/Documents/work/l4t/langchain-langgraph-python/.venv\u001b[0m\n",
            "\u001b[2mAudited \u001b[1m1 package\u001b[0m \u001b[2min 2ms\u001b[0m\u001b[0m\n"
          ]
        }
      ],
      "source": [
        "!uv pip install langgraph"
      ]
    },
    {
      "cell_type": "code",
      "execution_count": 2,
      "metadata": {
        "id": "iwodMaHb6dcq"
      },
      "outputs": [],
      "source": [
        "from typing_extensions import TypedDict\n",
        "from langgraph.graph import StateGraph, START, END\n",
        "from IPython.display import Image, display\n",
        "from typing import Literal"
      ]
    },
    {
      "cell_type": "code",
      "execution_count": null,
      "metadata": {
        "id": "7lTRdJwJ6vY8"
      },
      "outputs": [],
      "source": [
        "# Withdrawl Workflow \n",
        "\n",
        "class Account(TypedDict):\n",
        "    accountId: str\n",
        "    balance: float\n",
        "\n",
        "\n",
        "class UserInput(TypedDict):\n",
        "    accountId: str\n",
        "    amount: float\n",
        "\n",
        "\n",
        "class TranxStatus(TypedDict):\n",
        "    failed: bool | None\n",
        "    code: Literal[\"NOT_FOUND\", \"INSUFFICIENT_BALANCE\", None]\n",
        "\n",
        "\n",
        "class State(TypedDict):\n",
        "    accounts: list[Account]\n",
        "    userInput: UserInput = None\n",
        "    tranxStatus: TranxStatus = {\"failed\": None, \"code\": None}\n",
        "\n",
        "\n",
        "graph = StateGraph(State)\n",
        "\n",
        "\n",
        "def get_accounts_map(accounts: list[Account]) -> object:\n",
        "    return {account[\"accountId\"]: account for account in accounts}\n",
        "\n",
        "\n",
        "def get_account(state: State) -> Account | None:\n",
        "    user_input = state[\"userInput\"]\n",
        "    account_id = user_input[\"accountId\"]\n",
        "    accounts_map = get_accounts_map(state[\"accounts\"])\n",
        "    account = accounts_map.get(account_id, None)\n",
        "    return account\n",
        "\n",
        "\n",
        "def get_user_input(state: State) -> State:\n",
        "    accountId = input(\"Enter account Id: \")\n",
        "    amount = float(input(\"Enter amount to withdraw: \"))\n",
        "    state[\"userInput\"] = {\"accountId\": accountId, \"amount\": amount}\n",
        "    return state\n",
        "\n",
        "\n",
        "def validate(state: State) -> State:\n",
        "    account = get_account(state)\n",
        "    amount = state[\"userInput\"][\"amount\"]\n",
        "    if not account:\n",
        "        state[\"tranxStatus\"] = {\"failed\": True, \"code\": \"NOT_FOUND\"}\n",
        "    elif account[\"balance\"] < amount:\n",
        "        state[\"tranxStatus\"] = {\"failed\": True, \"code\": \"INSUFFICIENT_BALANCE\"}\n",
        "    return state\n",
        "\n",
        "\n",
        "def condition(state: State) -> Literal[\"withdraw\", \"failure\"]:\n",
        "    status = state[\"tranxStatus\"][\"failed\"]\n",
        "    if status == True:\n",
        "        return \"failure\"\n",
        "    return \"withdraw\"\n",
        "\n",
        "\n",
        "def withdraw(state: State) -> State:\n",
        "    amount = state[\"userInput\"][\"amount\"]\n",
        "    account = get_account(state)\n",
        "    account[\"balance\"] -= amount\n",
        "    return state\n",
        "\n",
        "\n",
        "def print_balance(state: State) -> None:\n",
        "    account = get_account(state)\n",
        "    print(f\"Balance of Account {account['accountId']} is {account['balance']}\")\n",
        "\n",
        "\n",
        "def failure(state: State) -> None:\n",
        "    tranxStatus = state[\"tranxStatus\"]\n",
        "    if tranxStatus[\"code\"] == \"NOT_FOUND\":\n",
        "        print(\"Sorry! Account not found.\")\n",
        "    else:\n",
        "        print(\"Sorry! Insufficient balance.\")\n",
        "\n",
        "\n",
        "# add nodes to the graph\n",
        "graph.add_node(\"get_user_input\", get_user_input)\n",
        "graph.add_node(\"validate\", validate)\n",
        "graph.add_node(\"withdraw\", withdraw)\n",
        "graph.add_node(\"print_balance\", print_balance)\n",
        "graph.add_node(\"failure\", failure)\n",
        "\n",
        "\n",
        "# define the edges\n",
        "graph.add_edge(START, \"get_user_input\")\n",
        "graph.add_edge(\"get_user_input\", \"validate\")\n",
        "\n",
        "graph.add_conditional_edges(\"validate\", condition)\n",
        "\n",
        "graph.add_edge(\"withdraw\", \"print_balance\")\n",
        "graph.add_edge(\"print_balance\", END)\n",
        "graph.add_edge(\"failure\", END)\n",
        "\n",
        "\n",
        "compiled_graph = graph.compile()"
      ]
    },
    {
      "cell_type": "code",
      "execution_count": null,
      "metadata": {},
      "outputs": [
        {
          "data": {
            "image/png": "[encoded data removed]",
            "text/plain": [
              "<IPython.core.display.Image object>"
            ]
          },
          "metadata": {},
          "output_type": "display_data"
        }
      ],
      "source": [
        "try:\n",
        "    display(Image(compiled_graph.get_graph().draw_mermaid_png()))\n",
        "except Exception:\n",
        "    # This requires some extra dependencies and is optional\n",
        "    pass"
      ]
    },
    {
      "cell_type": "code",
      "execution_count": null,
      "metadata": {
        "colab": {
          "base_uri": "https://localhost:8080/",
          "height": 350
        },
        "id": "fqMbK8i_60NQ",
        "outputId": "35edd866-ac79-4158-a362-960e0a04b802"
      },
      "outputs": [
        {
          "name": "stdout",
          "output_type": "stream",
          "text": [
            "Balance of Account a1 is 180.0\n"
          ]
        },
        {
          "data": {
            "text/plain": [
              "{'accounts': [{'accountId': 'a1', 'balance': 180.0},\n",
              "  {'accountId': 'a2', 'balance': 100}],\n",
              " 'userInput': {'accountId': 'a1', 'amount': 20.0},\n",
              " 'tranxStatus': {'failed': None, 'code': None}}"
            ]
          },
          "execution_count": 5,
          "metadata": {},
          "output_type": "execute_result"
        }
      ],
      "source": [
        "initial_state = State(\n",
        "    accounts=[{\"accountId\": \"a1\", \"balance\": 200}, {\"accountId\": \"a2\", \"balance\": 100}],\n",
        "    userInput=None,\n",
        "    tranxStatus={\"failed\": None, \"code\": None},\n",
        ")\n",
        "\n",
        "compiled_graph.invoke(initial_state)\n"
      ]
    }
  ],
  "metadata": {
    "colab": {
      "authorship_tag": "ABX9TyNLosjMuY6+AA7NYM5JYQ/q",
      "include_colab_link": true,
      "provenance": []
    },
    "kernelspec": {
      "display_name": ".venv",
      "language": "python",
      "name": "python3"
    },
    "language_info": {
      "codemirror_mode": {
        "name": "ipython",
        "version": 3
      },
      "file_extension": ".py",
      "mimetype": "text/x-python",
      "name": "python",
      "nbconvert_exporter": "python",
      "pygments_lexer": "ipython3",
      "version": "3.11.10"
    }
  },
  "nbformat": 4,
  "nbformat_minor": 0
}
