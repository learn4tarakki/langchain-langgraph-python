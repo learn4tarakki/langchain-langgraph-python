{
  "cells": [
    {
      "cell_type": "code",
      "execution_count": 1,
      "metadata": {},
      "outputs": [
        {
          "name": "stdout",
          "output_type": "stream",
          "text": [
            "\u001b[2mUsing Python 3.11.10 environment at: /home/ubu/Documents/work/l4t/langchain-langgraph-python/.venv\u001b[0m\n",
            "\u001b[2mAudited \u001b[1m1 package\u001b[0m \u001b[2min 1ms\u001b[0m\u001b[0m\n"
          ]
        }
      ],
      "source": [
        "!uv pip install langgraph"
      ]
    },
    {
      "cell_type": "code",
      "execution_count": 2,
      "metadata": {
        "id": "iwodMaHb6dcq"
      },
      "outputs": [],
      "source": [
        "from langgraph.graph import StateGraph, START, END\n",
        "from typing_extensions import TypedDict, Annotated\n",
        "from IPython.display import Image, display"
      ]
    },
    {
      "cell_type": "code",
      "execution_count": null,
      "metadata": {
        "id": "7lTRdJwJ6vY8"
      },
      "outputs": [
        {
          "name": "stdout",
          "output_type": "stream",
          "text": [
            "Addition of 1 & 2 is 3\n"
          ]
        },
        {
          "data": {
            "text/plain": [
              "{'number1': 1, 'number2': 2, 'result': 3}"
            ]
          },
          "execution_count": 3,
          "metadata": {},
          "output_type": "execute_result"
        }
      ],
      "source": [
        "class State(TypedDict):\n",
        "    number1: int\n",
        "    number2: int \n",
        "    result: int \n",
        "\n",
        "graph = StateGraph(State)\n",
        "\n",
        "def add(state: State) -> State:\n",
        "    result = state[\"number1\"] + state[\"number2\"]\n",
        "    return { \"result\": result } \n",
        "\n",
        "\n",
        "def show(state: State) -> None:\n",
        "    print(f\"Addition of {state['number1']} & {state['number2']} is {state['result']}\")\n",
        "\n",
        "\n",
        "graph.add_node('add', add)\n",
        "graph.add_node('show', show)\n",
        "\n",
        "graph.add_edge(START, 'add')\n",
        "graph.add_edge('add', 'show')\n",
        "graph.add_edge('show', END)\n",
        "\n",
        "compiled = graph.compile()\n",
        "\n",
        "compiled.invoke({\"number1\":1, \"number2\":2})"
      ]
    },
    {
      "cell_type": "code",
      "execution_count": 5,
      "metadata": {
        "colab": {
          "base_uri": "https://localhost:8080/",
          "height": 350
        },
        "id": "fqMbK8i_60NQ",
        "outputId": "35edd866-ac79-4158-a362-960e0a04b802"
      },
      "outputs": [],
      "source": [
        "\n",
        "try:\n",
        "    display(Image(compiled.get_graph().draw_mermaid_png()))\n",
        "except Exception:\n",
        "    # This requires some extra dependencies and is optional\n",
        "    pass"
      ]
    }
  ],
  "metadata": {
    "colab": {
      "authorship_tag": "ABX9TyNLosjMuY6+AA7NYM5JYQ/q",
      "include_colab_link": true,
      "provenance": []
    },
    "kernelspec": {
      "display_name": ".venv",
      "language": "python",
      "name": "python3"
    },
    "language_info": {
      "codemirror_mode": {
        "name": "ipython",
        "version": 3
      },
      "file_extension": ".py",
      "mimetype": "text/x-python",
      "name": "python",
      "nbconvert_exporter": "python",
      "pygments_lexer": "ipython3",
      "version": "3.11.10"
    }
  },
  "nbformat": 4,
  "nbformat_minor": 0
}
